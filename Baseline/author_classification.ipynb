{
 "cells": [
  {
   "cell_type": "code",
   "execution_count": 30,
   "metadata": {},
   "outputs": [
    {
     "name": "stderr",
     "output_type": "stream",
     "text": [
      "[nltk_data] Downloading package wordnet to\n",
      "[nltk_data]     C:\\Users\\peter\\AppData\\Roaming\\nltk_data...\n",
      "[nltk_data]   Package wordnet is already up-to-date!\n",
      "[nltk_data] Downloading package punkt to\n",
      "[nltk_data]     C:\\Users\\peter\\AppData\\Roaming\\nltk_data...\n",
      "[nltk_data]   Package punkt is already up-to-date!\n"
     ]
    }
   ],
   "source": [
    "import pandas as pd\n",
    "import numpy as np\n",
    "import torch\n",
    "import torch.nn as nn\n",
    "import sklearn\n",
    "from torchtext.legacy.data import Field, TabularDataset, BucketIterator\n",
    "from torchtext.vocab import GloVe\n",
    "import spacy\n",
    "import nltk\n",
    "from nltk.stem import WordNetLemmatizer \n",
    "import plotly.graph_objects as go\n",
    "nltk.download('wordnet')\n",
    "nltk.download('punkt') # Download this as this allows you to tokenize words in a string.\n",
    "lemmatizer = WordNetLemmatizer()\n",
    "\n",
    "import matplotlib.pyplot as plt\n",
    "import seaborn as sns"
   ]
  },
  {
   "cell_type": "code",
   "execution_count": 31,
   "metadata": {},
   "outputs": [],
   "source": [
    "# Load in data, and split it into training and testing\n",
    "# This will create train/test csvs\n",
    "!python extract_sentences.py\n",
    "!python sample_data.py"
   ]
  },
  {
   "cell_type": "code",
   "execution_count": 32,
   "metadata": {},
   "outputs": [
    {
     "name": "stderr",
     "output_type": "stream",
     "text": [
      "C:\\Users\\peter\\anaconda3\\envs\\cuda-env\\lib\\site-packages\\torchtext\\data\\utils.py:123: UserWarning:\n",
      "\n",
      "Spacy model \"en\" could not be loaded, trying \"en_core_web_sm\" instead\n",
      "\n"
     ]
    }
   ],
   "source": [
    "# Combine Torchtext with Spacy \n",
    "# https://towardsdatascience.com/how-to-use-torchtext-for-neural-machine-translation-plus-hack-to-make-it-5x-faster-77f3884d95\n",
    "text = Field(sequential = True, tokenize = 'spacy', lower=True, include_lengths=True)\n",
    "score = Field(sequential = False, use_vocab = False)\n",
    "\n",
    "data_fields = [('text', text), ('Author_num', score)]\n",
    "\n",
    "train = TabularDataset(path = 'train.csv', format = 'csv', fields = data_fields, skip_header = True)\n",
    "test = TabularDataset(path = 'test.csv', format = 'csv', fields = data_fields, skip_header = True)\n",
    "\n",
    "text.build_vocab(train, test, min_freq = 3, vectors = GloVe(name = '6B', dim = 100))"
   ]
  },
  {
   "cell_type": "code",
   "execution_count": 33,
   "metadata": {},
   "outputs": [],
   "source": [
    "# Iterators\n",
    "# Based on https://github.com/arthtalati/Deep-Learning-based-Authorship-Identification/blob/master/Article_level_lstm.ipynb\n",
    "# And torch documentation\n",
    "device = torch.device('cuda:0')\n",
    "BATCH_SIZE = 64\n",
    "\n",
    "train_iterator = BucketIterator(train,\n",
    "    batch_size = BATCH_SIZE,\n",
    "    sort_key = lambda x: len(x.text),\n",
    "    sort_within_batch = True,\n",
    "    repeat = False,\n",
    "    shuffle = True,\n",
    "    device = device\n",
    ")\n",
    "\n",
    "test_iterator = BucketIterator(test,\n",
    "    batch_size = BATCH_SIZE,\n",
    "    sort_key = lambda x: len(x.text),\n",
    "    sort_within_batch = True,\n",
    "    repeat = False,\n",
    "    shuffle = True,\n",
    "    device = device\n",
    ")"
   ]
  },
  {
   "cell_type": "code",
   "execution_count": 34,
   "metadata": {},
   "outputs": [],
   "source": [
    "# NETWORK ARCHITECTURE\n",
    "class AuthorClassifier(nn.Module):\n",
    "    def __init__(self, mode, output_size, hidden_size, vocab_size, embedding_length, word_embeddings):\n",
    "        super(AuthorClassifier, self).__init__()\n",
    "        \n",
    "        self.mode = mode\n",
    "        self.output_size = output_size\n",
    "        self.hidden_size = hidden_size\n",
    "        self.vocab_size = vocab_size\n",
    "        self.embedding_length = embedding_length\n",
    "        self.embedding = nn.Embedding(self.vocab_size,self.embedding_length)\n",
    "        self.embedding.weight = nn.Parameter(word_embeddings,requires_grad = False)\n",
    "\n",
    "        if self.mode == 'rnn':\n",
    "            self.network = nn.RNN(self.embedding_length,self.hidden_size)\n",
    "        elif self.mode == 'lstm':\n",
    "            self.network = nn.LSTM(self.embedding_length,self.hidden_size)\n",
    "        elif self.mode == 'gru':\n",
    "            self.network = nn.GRU(self.embedding_length,self.hidden_size)\n",
    "        elif self.mode == 'bilstm':\n",
    "            self.network = nn.LSTM(self.embedding_length,self.hidden_size,bidirectional = True)\n",
    "\n",
    "        self.fclayer = nn.Linear(self.hidden_size, self.output_size)\n",
    "    \n",
    "    def forward(self, text, text_lengths):\n",
    "      text_embeddings = self.embedding(text)\n",
    "      pack_sequence = nn.utils.rnn.pack_padded_sequence(text_embeddings,text_lengths.to('cpu'))\n",
    "\n",
    "      if self.mode in ('lstm','bilstm'):\n",
    "        a,(hidden,cell) = self.network(pack_sequence)\n",
    "        if self.mode == 'bilstm':\n",
    "          hidden = hidden[0,:,:]+ hidden[1,:,:]\n",
    "      else:\n",
    "        a,hidden = self.network(pack_sequence) \n",
    "      hidden = hidden.squeeze(0)\n",
    "      pred = self.fclayer(hidden)\n",
    "      return pred\n",
    "\n"
   ]
  },
  {
   "cell_type": "code",
   "execution_count": 35,
   "metadata": {},
   "outputs": [],
   "source": [
    "def train_classifier(model, dataset_iterator, loss_function, optimizer, num_epochs, log = \"runs\", verbose = False, recurrent = True):\n",
    " \n",
    "  model.train()\n",
    "  step = 0\n",
    "  f1score_train = []\n",
    "  accuracy_train = []\n",
    "  loss_train = []\n",
    "  for epoch in range(num_epochs):\n",
    "    correct = 0\n",
    "    total = 0\n",
    "    total_loss = 0\n",
    "    f1 = 0\n",
    "    f1_step = 0\n",
    "    \n",
    "    for batch in dataset_iterator:\n",
    "      comment, comment_lengths = batch.text\n",
    "      labels = batch.Author_num\n",
    "\n",
    "      batch_size = len(labels)\n",
    "      optimizer.zero_grad()\n",
    "      output = model(comment, comment_lengths).squeeze(0)\n",
    "\n",
    "      loss = loss_function(output, labels.long())\n",
    "      loss.backward() \n",
    "      nn.utils.clip_grad_norm_(model.parameters(),0.5)\n",
    "      optimizer.step()\n",
    "\n",
    "      pred = torch.max(output.data,1).indices\n",
    "      f1 += sklearn.metrics.f1_score((labels.cpu()).numpy(), (pred.cpu()).numpy(),average= 'macro')\n",
    "      correct += (torch.sum(pred == labels)).item()\n",
    "      total += len(labels)\n",
    "      total_loss += loss.item()\n",
    "      f1_step += 1\n",
    "\n",
    "      step = step + 1\n",
    "    f1score_train.append(f1/f1_step)\n",
    "    loss_train.append(total_loss/total)\n",
    "    accuracy_train.append(correct/total)\n",
    "    print('---Training statistics---',\"Epoch: %s Acc: %s Loss: %s\"%(epoch+1, correct/total, total_loss/total),'F1 Score:',f1/f1_step,)\n",
    "    return loss_train,f1score_train,accuracy_train\n",
    "  \n",
    "def evaluate_classifier(model, dataset_iterator, loss_function, recurrent = True):\n",
    "  model.eval()\n",
    "\n",
    "  correct = 0\n",
    "  total = 0\n",
    "  total_loss = 0\n",
    "  overall_pred = []\n",
    "  overall_label = []\n",
    "  accuracy_test = []\n",
    "  loss_test = []\n",
    "  f1_step = 0\n",
    "  f1 = 0\n",
    "\n",
    "  for batch in dataset_iterator:\n",
    "    comment, comment_lengths = batch.text\n",
    "    labels = batch.Author_num\n",
    "    output = model(comment, comment_lengths).squeeze(0)\n",
    "    loss = loss_function(output, labels.long())\n",
    "    pred = torch.max(output.data,1).indices \n",
    "    correct += (torch.sum(pred == labels)).item()\n",
    "    total += len(labels)\n",
    "    total_loss += loss.item()\n",
    "    ap = pred.cpu()\n",
    "    a = np.asarray(ap)\n",
    "    labels = labels.cpu()\n",
    "    b = np.asarray(labels)\n",
    "    f1_step += 1\n",
    "    overall_pred.append(a)\n",
    "    overall_label.append(b)\n",
    "\n",
    "  overall_p= [val for sublist in overall_pred for val in sublist]\n",
    "  overall_l = [val for sublist in overall_label for val in sublist]\n",
    "  f1ss = sklearn.metrics.f1_score(overall_l,overall_p,average= 'macro')\n",
    "  accuracy_test.append(correct/total)\n",
    "  loss_test.append(total_loss/total)\n",
    "  print(\"Validation statistics: Acc: %s Loss: %s\"%(correct/total, total_loss/total),'F1 Score:',f1ss)\n",
    "  return overall_pred,overall_label,accuracy_test,f1ss,loss_test"
   ]
  },
  {
   "cell_type": "code",
   "execution_count": 36,
   "metadata": {},
   "outputs": [
    {
     "name": "stdout",
     "output_type": "stream",
     "text": [
      "---Training statistics--- Epoch: 1 Acc: 0.15893181228934405 Loss: 0.034079162775311166 F1 Score: 0.032956453969076836\n",
      "Validation statistics: Acc: 0.14186327888687236 Loss: 0.03475298195698733 F1 Score: 0.0248476821192053\n",
      "---Training statistics--- Epoch: 1 Acc: 0.1590614467202489 Loss: 0.032712576084567194 F1 Score: 0.03300337510190789\n",
      "Validation statistics: Acc: 0.1512401693889897 Loss: 0.03236046327076316 F1 Score: 0.026274303730951125\n",
      "---Training statistics--- Epoch: 1 Acc: 0.16385792066372828 Loss: 0.03267246260678858 F1 Score: 0.03402608766803963\n",
      "Validation statistics: Acc: 0.1572897761645493 Loss: 0.0326228265825792 F1 Score: 0.027182435964453737\n",
      "---Training statistics--- Epoch: 1 Acc: 0.16191340420015557 Loss: 0.03243865780117044 F1 Score: 0.03391773680061555\n",
      "Validation statistics: Acc: 0.1793708408953418 Loss: 0.03219214476604427 F1 Score: 0.03041805591177225\n",
      "---Training statistics--- Epoch: 1 Acc: 0.16398755509463314 Loss: 0.03240022489002773 F1 Score: 0.035623429564714176\n",
      "Validation statistics: Acc: 0.1512401693889897 Loss: 0.03248200258628859 F1 Score: 0.026274303730951125\n",
      "---Training statistics--- Epoch: 1 Acc: 0.23697173969406274 Loss: 0.029980893607333685 F1 Score: 0.11620451598992933\n",
      "Validation statistics: Acc: 0.3076225045372051 Loss: 0.027410790369284205 F1 Score: 0.14832199911077149\n",
      "---Training statistics--- Epoch: 1 Acc: 0.3641431164117189 Loss: 0.0267692628165184 F1 Score: 0.2320624088644796\n",
      "Validation statistics: Acc: 0.4222625529340593 Loss: 0.025781110460947155 F1 Score: 0.25393195791489737\n",
      "---Training statistics--- Epoch: 1 Acc: 0.4211822660098522 Loss: 0.024384981437084247 F1 Score: 0.28115607241610274\n",
      "Validation statistics: Acc: 0.4691470054446461 Loss: 0.022876764670762596 F1 Score: 0.27515110265364884\n",
      "---Training statistics--- Epoch: 1 Acc: 0.4906663209748509 Loss: 0.021930029741803508 F1 Score: 0.3421433916661863\n",
      "Validation statistics: Acc: 0.5314579552329098 Loss: 0.02115488331821278 F1 Score: 0.3372405926980018\n",
      "---Training statistics--- Epoch: 1 Acc: 0.548742546020223 Loss: 0.019983062363672293 F1 Score: 0.40041395205911096\n",
      "Validation statistics: Acc: 0.5710828796128251 Loss: 0.019448273050662466 F1 Score: 0.3776384836669836\n",
      "---Training statistics--- Epoch: 1 Acc: 0.6073373087892144 Loss: 0.017239730724992918 F1 Score: 0.4623583624027095\n",
      "Validation statistics: Acc: 0.6010284331518452 Loss: 0.017072129181061668 F1 Score: 0.41447242579320553\n",
      "---Training statistics--- Epoch: 1 Acc: 0.665802437127301 Loss: 0.014736752687632991 F1 Score: 0.5186940479009194\n",
      "Validation statistics: Acc: 0.6790683605565638 Loss: 0.014577893789291958 F1 Score: 0.4854837594109786\n",
      "---Training statistics--- Epoch: 1 Acc: 0.6823956442831216 Loss: 0.013891401468146672 F1 Score: 0.5469883237690291\n",
      "Validation statistics: Acc: 0.677253478523896 Loss: 0.014139748740145746 F1 Score: 0.48496084209472956\n",
      "---Training statistics--- Epoch: 1 Acc: 0.7024889810733731 Loss: 0.01296908199779413 F1 Score: 0.5636433916017195\n",
      "Validation statistics: Acc: 0.6999395039322444 Loss: 0.0136753271879821 F1 Score: 0.5037008363570826\n",
      "---Training statistics--- Epoch: 1 Acc: 0.7093596059113301 Loss: 0.012588465128007997 F1 Score: 0.5775947009775867\n",
      "Validation statistics: Acc: 0.705384150030248 Loss: 0.013706455673150273 F1 Score: 0.5032986227251588\n",
      "---Training statistics--- Epoch: 1 Acc: 0.7277676950998185 Loss: 0.011894470166211181 F1 Score: 0.5818293658686821\n",
      "Validation statistics: Acc: 0.7235329703569268 Loss: 0.012817795208671637 F1 Score: 0.5196850136200546\n",
      "---Training statistics--- Epoch: 1 Acc: 0.7416385792066373 Loss: 0.011434589649555687 F1 Score: 0.6112353691642597\n",
      "Validation statistics: Acc: 0.705384150030248 Loss: 0.013486318864915418 F1 Score: 0.5093099305408604\n",
      "---Training statistics--- Epoch: 1 Acc: 0.7503240860772621 Loss: 0.011038070649395404 F1 Score: 0.6230193916841197\n",
      "Validation statistics: Acc: 0.7020568663036902 Loss: 0.01346710864713678 F1 Score: 0.5078671027170433\n",
      "---Training statistics--- Epoch: 1 Acc: 0.75641690432979 Loss: 0.01058467541016505 F1 Score: 0.6268937935883697\n",
      "Validation statistics: Acc: 0.7114337568058077 Loss: 0.013183159283793341 F1 Score: 0.512296228377223\n",
      "---Training statistics--- Epoch: 1 Acc: 0.7710655950220379 Loss: 0.010249395260530833 F1 Score: 0.6381617577777577\n",
      "Validation statistics: Acc: 0.705686630369026 Loss: 0.013752860365873816 F1 Score: 0.5182058023013688\n"
     ]
    }
   ],
   "source": [
    "output_size = 50\n",
    "hidden_size = 300\n",
    "vocab_size = len(text.vocab)\n",
    "embedding_length = 100\n",
    "word_embeddings = text.vocab.vectors\n",
    "num_epochs = 1\n",
    "mode = 'lstm'\n",
    "\n",
    "model = AuthorClassifier(mode, output_size, hidden_size, vocab_size, embedding_length, word_embeddings)\n",
    "model = model.to(device)\n",
    "\n",
    "\n",
    "loss_function = nn.CrossEntropyLoss()\n",
    "\n",
    "optimizer = torch.optim.Adam(model.parameters(), lr=1e-2)\n",
    "log_dir = 'runs/lstm1'\n",
    "final_acc_train_lstm  = []\n",
    "final_loss_train_lstm = []\n",
    "final_loss_test_lstm = []\n",
    "final_acc_test_lstm = []\n",
    "final_f1score_train_lstm = []\n",
    "final_f1score_test_lstm = []\n",
    "\n",
    "\n",
    "for multi in range(20):\n",
    "  loss_train,f1score,accs = train_classifier(model, train_iterator, loss_function, optimizer, log = log_dir, num_epochs = num_epochs)\n",
    "  overall_pred,overall_label,accs_test,f1ss,loss_test = evaluate_classifier(model, test_iterator, loss_function)\n",
    "  final_acc_train_lstm.append(accs[0])\n",
    "  final_acc_test_lstm.append(accs_test[0])\n",
    "  final_f1score_train_lstm.append(f1score[0])\n",
    "  final_f1score_test_lstm.append(f1ss)\n",
    "  final_loss_train_lstm.append(loss_train[0])\n",
    "  final_loss_test_lstm.append(loss_test[0])\n"
   ]
  },
  {
   "cell_type": "code",
   "execution_count": 37,
   "metadata": {},
   "outputs": [
    {
     "name": "stdout",
     "output_type": "stream",
     "text": [
      "---Training statistics--- Epoch: 1 Acc: 0.19834067928441795 Loss: 0.03346436781558095 F1 Score: 0.08133171252159806\n",
      "Validation statistics: Acc: 0.3617664851784634 Loss: 0.028223931753339728 F1 Score: 0.20920330016592964\n",
      "---Training statistics--- Epoch: 1 Acc: 0.4401088929219601 Loss: 0.02469852037432282 F1 Score: 0.29595910484378296\n",
      "Validation statistics: Acc: 0.5520266182698125 Loss: 0.020707394055575944 F1 Score: 0.34977897151731774\n",
      "---Training statistics--- Epoch: 1 Acc: 0.574410163339383 Loss: 0.018779635533694317 F1 Score: 0.41614701406587606\n",
      "Validation statistics: Acc: 0.6240169388989716 Loss: 0.016168103956195418 F1 Score: 0.4710765808515732\n",
      "---Training statistics--- Epoch: 1 Acc: 0.6586725434275343 Loss: 0.014667016806335439 F1 Score: 0.5208693706743649\n",
      "Validation statistics: Acc: 0.677858439201452 Loss: 0.01351010215260805 F1 Score: 0.5344308371579829\n",
      "---Training statistics--- Epoch: 1 Acc: 0.6966554316826549 Loss: 0.01326124872244452 F1 Score: 0.5649004323614463\n",
      "Validation statistics: Acc: 0.7075015124016939 Loss: 0.012465856449889257 F1 Score: 0.5562379177016615\n",
      "---Training statistics--- Epoch: 1 Acc: 0.7237490277417682 Loss: 0.011819318878602759 F1 Score: 0.6081687756776525\n",
      "Validation statistics: Acc: 0.7014519056261344 Loss: 0.012756991685248114 F1 Score: 0.5861411734088356\n",
      "---Training statistics--- Epoch: 1 Acc: 0.7531760435571688 Loss: 0.010821666138713645 F1 Score: 0.6364633283930476\n",
      "Validation statistics: Acc: 0.7235329703569268 Loss: 0.012198997131862644 F1 Score: 0.6034034535172458\n",
      "---Training statistics--- Epoch: 1 Acc: 0.762380088151413 Loss: 0.010534471182680466 F1 Score: 0.6667665857807029\n",
      "Validation statistics: Acc: 0.7329098608590442 Loss: 0.012332342017985118 F1 Score: 0.6195554228302892\n",
      "---Training statistics--- Epoch: 1 Acc: 0.7796214674617579 Loss: 0.009772775562647667 F1 Score: 0.6762925217003211\n",
      "Validation statistics: Acc: 0.7568058076225045 Loss: 0.010800415928723743 F1 Score: 0.6402745508260862\n",
      "---Training statistics--- Epoch: 1 Acc: 0.7866217267306197 Loss: 0.009430606429708268 F1 Score: 0.6827998261314309\n",
      "Validation statistics: Acc: 0.7474289171203872 Loss: 0.011251676707943766 F1 Score: 0.6125408593995051\n",
      "---Training statistics--- Epoch: 1 Acc: 0.7984184599429609 Loss: 0.008939299817200165 F1 Score: 0.7033869134859229\n",
      "Validation statistics: Acc: 0.7728372655777375 Loss: 0.010369509110880505 F1 Score: 0.656436448011119\n",
      "---Training statistics--- Epoch: 1 Acc: 0.8047705470572984 Loss: 0.008838924551071173 F1 Score: 0.7067993143951813\n",
      "Validation statistics: Acc: 0.7673926194797338 Loss: 0.010286644046456557 F1 Score: 0.667673881068054\n",
      "---Training statistics--- Epoch: 1 Acc: 0.8091781177080632 Loss: 0.008732050270569435 F1 Score: 0.7220571583790321\n",
      "Validation statistics: Acc: 0.7822141560798548 Loss: 0.010265004606461136 F1 Score: 0.6879547757585307\n",
      "---Training statistics--- Epoch: 1 Acc: 0.8297899922219342 Loss: 0.007873343240792892 F1 Score: 0.7367680276809325\n",
      "Validation statistics: Acc: 0.7767695099818511 Loss: 0.010136389852198899 F1 Score: 0.690780808876846\n",
      "---Training statistics--- Epoch: 1 Acc: 0.827326938034742 Loss: 0.007603089341428735 F1 Score: 0.7330523022666826\n",
      "Validation statistics: Acc: 0.7728372655777375 Loss: 0.010626271568775105 F1 Score: 0.6901618398050854\n",
      "---Training statistics--- Epoch: 1 Acc: 0.835105003889033 Loss: 0.007443786313604454 F1 Score: 0.7461198134065543\n",
      "Validation statistics: Acc: 0.7776769509981851 Loss: 0.010355354174118009 F1 Score: 0.6771430301780719\n",
      "---Training statistics--- Epoch: 1 Acc: 0.8397718434016075 Loss: 0.007281033387168612 F1 Score: 0.7586415059171912\n",
      "Validation statistics: Acc: 0.7831215970961888 Loss: 0.01027722807397702 F1 Score: 0.6948128831486381\n",
      "---Training statistics--- Epoch: 1 Acc: 0.8422348975887995 Loss: 0.0071202574898666295 F1 Score: 0.757324772321081\n",
      "Validation statistics: Acc: 0.7807017543859649 Loss: 0.010206120248283363 F1 Score: 0.6823316496986701\n",
      "---Training statistics--- Epoch: 1 Acc: 0.8434016074669433 Loss: 0.007012028036200115 F1 Score: 0.7607541424029404\n",
      "Validation statistics: Acc: 0.7915910465819722 Loss: 0.009869310116937358 F1 Score: 0.7004624386371431\n",
      "---Training statistics--- Epoch: 1 Acc: 0.8470313715322789 Loss: 0.0067818346779840825 F1 Score: 0.7600638081012269\n",
      "Validation statistics: Acc: 0.7583182093163945 Loss: 0.012375663571374934 F1 Score: 0.6617334630396314\n"
     ]
    }
   ],
   "source": [
    "mode = 'gru'\n",
    "\n",
    "model = AuthorClassifier(mode, output_size, hidden_size, vocab_size, embedding_length, word_embeddings)\n",
    "model = model.to(device)\n",
    "\n",
    "loss_function = nn.CrossEntropyLoss()\n",
    "\n",
    "optimizer = torch.optim.Adam(model.parameters(), lr=1e-2)\n",
    "log_dir = 'runs/gru'\n",
    "final_acc_train_gru  = []\n",
    "final_acc_test_gru = []\n",
    "final_f1score_train_gru = []\n",
    "final_f1score_test_gru = []\n",
    "final_loss_train_gru = []\n",
    "final_loss_test_gru = []\n",
    "\n",
    "for multi in range(20):\n",
    "  loss_train,f1score,accs = train_classifier(model, train_iterator, loss_function, optimizer, log = log_dir, num_epochs = num_epochs)\n",
    "  overall_pred,overall_label,accs_test,f1ss,loss_test = evaluate_classifier(model, test_iterator, loss_function)\n",
    "  final_acc_train_gru.append(accs[0])\n",
    "  final_loss_train_gru.append(loss_train[0])\n",
    "  final_acc_test_gru.append(accs_test[0])\n",
    "  final_f1score_train_gru.append(f1score[0])\n",
    "  final_f1score_test_gru.append(f1ss)\n",
    "  final_loss_test_gru.append(loss_test[0])\n"
   ]
  },
  {
   "cell_type": "code",
   "execution_count": 38,
   "metadata": {},
   "outputs": [
    {
     "name": "stdout",
     "output_type": "stream",
     "text": [
      "---Training statistics--- Epoch: 1 Acc: 0.15011667098781437 Loss: 0.03356402486539548 F1 Score: 0.031618358187567766\n",
      "Validation statistics: Acc: 0.1793708408953418 Loss: 0.032409961520724055 F1 Score: 0.03041805591177225\n",
      "---Training statistics--- Epoch: 1 Acc: 0.15659839253305677 Loss: 0.03236506494920675 F1 Score: 0.03498657641136685\n",
      "Validation statistics: Acc: 0.22171808832425893 Loss: 0.03194044167102645 F1 Score: 0.09580730757278753\n",
      "---Training statistics--- Epoch: 1 Acc: 0.2958257713248639 Loss: 0.028253316353849096 F1 Score: 0.1738965373046768\n",
      "Validation statistics: Acc: 0.39473684210526316 Loss: 0.024455179320056728 F1 Score: 0.2377467019401684\n",
      "---Training statistics--- Epoch: 1 Acc: 0.5035001296344309 Loss: 0.021311712768802935 F1 Score: 0.36267771339575366\n",
      "Validation statistics: Acc: 0.631578947368421 Loss: 0.01676143713958034 F1 Score: 0.44256198935752344\n",
      "---Training statistics--- Epoch: 1 Acc: 0.6585429089966295 Loss: 0.014890254629471156 F1 Score: 0.5171177174097854\n",
      "Validation statistics: Acc: 0.6833030852994555 Loss: 0.013594828631686068 F1 Score: 0.5054273233897025\n",
      "---Training statistics--- Epoch: 1 Acc: 0.7225823178636246 Loss: 0.012156258796220743 F1 Score: 0.5719453209758496\n",
      "Validation statistics: Acc: 0.7150635208711433 Loss: 0.012382868765270212 F1 Score: 0.5258446573830341\n",
      "---Training statistics--- Epoch: 1 Acc: 0.7586206896551724 Loss: 0.010416888104283751 F1 Score: 0.6313323741880763\n",
      "Validation statistics: Acc: 0.7265577737447066 Loss: 0.011654117220705088 F1 Score: 0.5786467673157009\n",
      "---Training statistics--- Epoch: 1 Acc: 0.788047705470573 Loss: 0.00918527498806515 F1 Score: 0.6702398489037785\n",
      "Validation statistics: Acc: 0.7568058076225045 Loss: 0.010615714515248934 F1 Score: 0.6050952130799928\n",
      "---Training statistics--- Epoch: 1 Acc: 0.8137153227897329 Loss: 0.008146436217595698 F1 Score: 0.7015589439734196\n",
      "Validation statistics: Acc: 0.7807017543859649 Loss: 0.009980546895367265 F1 Score: 0.6291478982582426\n",
      "---Training statistics--- Epoch: 1 Acc: 0.8431423386051335 Loss: 0.0071325658383280125 F1 Score: 0.7392054979797287\n",
      "Validation statistics: Acc: 0.7816091954022989 Loss: 0.0096335090219037 F1 Score: 0.6467793177999461\n",
      "---Training statistics--- Epoch: 1 Acc: 0.8655690951516722 Loss: 0.006176676360432939 F1 Score: 0.7776222818570057\n",
      "Validation statistics: Acc: 0.7722323049001815 Loss: 0.010532843066222798 F1 Score: 0.6539121886545775\n",
      "---Training statistics--- Epoch: 1 Acc: 0.8796992481203008 Loss: 0.005447107058507167 F1 Score: 0.7860840785034744\n",
      "Validation statistics: Acc: 0.8021778584392014 Loss: 0.009205847264746969 F1 Score: 0.7059140967530213\n",
      "---Training statistics--- Epoch: 1 Acc: 0.8990147783251231 Loss: 0.004640312700155453 F1 Score: 0.8136602052326131\n",
      "Validation statistics: Acc: 0.8039927404718693 Loss: 0.009718162801479543 F1 Score: 0.6928975371516524\n",
      "---Training statistics--- Epoch: 1 Acc: 0.9165154264972777 Loss: 0.003970654750081532 F1 Score: 0.8403417881101389\n",
      "Validation statistics: Acc: 0.8157894736842105 Loss: 0.009442132360847578 F1 Score: 0.6935773677237856\n",
      "---Training statistics--- Epoch: 1 Acc: 0.9261083743842364 Loss: 0.0035468223267786604 F1 Score: 0.8565613065150348\n",
      "Validation statistics: Acc: 0.7912885662431942 Loss: 0.010732470507535202 F1 Score: 0.6728881011284833\n",
      "---Training statistics--- Epoch: 1 Acc: 0.9314233860513352 Loss: 0.003284435166769326 F1 Score: 0.8584836676213912\n",
      "Validation statistics: Acc: 0.808529945553539 Loss: 0.010285556772599843 F1 Score: 0.7073935683860635\n",
      "---Training statistics--- Epoch: 1 Acc: 0.9386829141820068 Loss: 0.002984023736758432 F1 Score: 0.8750632036123718\n",
      "Validation statistics: Acc: 0.8109497882637628 Loss: 0.010792487883977384 F1 Score: 0.7052585415305939\n",
      "---Training statistics--- Epoch: 1 Acc: 0.941923774954628 Loss: 0.0027153611539082884 F1 Score: 0.86666732061707\n",
      "Validation statistics: Acc: 0.8055051421657592 Loss: 0.010572733240534765 F1 Score: 0.6856627417195924\n",
      "---Training statistics--- Epoch: 1 Acc: 0.9468498833290122 Loss: 0.002507894849282754 F1 Score: 0.876904992994981\n",
      "Validation statistics: Acc: 0.8055051421657592 Loss: 0.010907081646125829 F1 Score: 0.717621356569741\n",
      "---Training statistics--- Epoch: 1 Acc: 0.9534612393051595 Loss: 0.002212519666387914 F1 Score: 0.9000505113962872\n",
      "Validation statistics: Acc: 0.8067150635208712 Loss: 0.011178770953702306 F1 Score: 0.7191765082705729\n"
     ]
    }
   ],
   "source": [
    "mode = 'bilstm'\n",
    "\n",
    "model = AuthorClassifier(mode, output_size, hidden_size, vocab_size, embedding_length, word_embeddings)\n",
    "model = model.to(device)\n",
    "\n",
    "\n",
    "loss_function = nn.CrossEntropyLoss()\n",
    "\n",
    "optimizer = torch.optim.Adam(model.parameters(), lr=1e-2)\n",
    "log_dir = 'runs/bilstm'\n",
    "final_acc_train_bilstm  = []\n",
    "final_acc_test_bilstm = []\n",
    "final_f1score_train_bilstm = []\n",
    "final_f1score_test_bilstm = []\n",
    "final_loss_train_bilstm = []\n",
    "final_loss_test_bilstm = []\n",
    "\n",
    "for multi in range(20):\n",
    "  loss_train,f1score,accs = train_classifier(model, train_iterator, loss_function, optimizer, log = log_dir, num_epochs = num_epochs)\n",
    "  overall_pred,overall_label,accs_test,f1ss,loss_test = evaluate_classifier(model, test_iterator, loss_function)\n",
    "  final_acc_train_bilstm.append(accs[0])\n",
    "  final_loss_train_bilstm.append(loss_train[0])\n",
    "  final_acc_test_bilstm.append(accs_test[0])\n",
    "  final_f1score_train_bilstm.append(f1score[0])\n",
    "  final_f1score_test_bilstm.append(f1ss)\n",
    "  final_loss_test_bilstm.append(loss_test[0])\n"
   ]
  },
  {
   "cell_type": "code",
   "execution_count": 39,
   "metadata": {},
   "outputs": [
    {
     "data": {
      "application/vnd.plotly.v1+json": {
       "config": {
        "plotlyServerURL": "https://plot.ly"
       },
       "data": [
        {
         "connectgaps": true,
         "marker": {
          "color": "rgba(128, 0, 0, 0.9)"
         },
         "name": "Training accuracy lstm",
         "type": "scatter",
         "y": [
          0.15893181228934405,
          0.1590614467202489,
          0.16385792066372828,
          0.16191340420015557,
          0.16398755509463314,
          0.23697173969406274,
          0.3641431164117189,
          0.4211822660098522,
          0.4906663209748509,
          0.548742546020223,
          0.6073373087892144,
          0.665802437127301,
          0.6823956442831216,
          0.7024889810733731,
          0.7093596059113301,
          0.7277676950998185,
          0.7416385792066373,
          0.7503240860772621,
          0.75641690432979,
          0.7710655950220379
         ]
        },
        {
         "connectgaps": true,
         "marker": {
          "color": "rgba(255, 0, 0, 0.9)"
         },
         "name": "Testing accuracy lstm",
         "type": "scatter",
         "y": [
          0.14186327888687236,
          0.1512401693889897,
          0.1572897761645493,
          0.1793708408953418,
          0.1512401693889897,
          0.3076225045372051,
          0.4222625529340593,
          0.4691470054446461,
          0.5314579552329098,
          0.5710828796128251,
          0.6010284331518452,
          0.6790683605565638,
          0.677253478523896,
          0.6999395039322444,
          0.705384150030248,
          0.7235329703569268,
          0.705384150030248,
          0.7020568663036902,
          0.7114337568058077,
          0.705686630369026
         ]
        },
        {
         "connectgaps": true,
         "marker": {
          "color": "rgba(0, 128, 0, 0.9)"
         },
         "name": "Training accuracy gru",
         "type": "scatter",
         "y": [
          0.19834067928441795,
          0.4401088929219601,
          0.574410163339383,
          0.6586725434275343,
          0.6966554316826549,
          0.7237490277417682,
          0.7531760435571688,
          0.762380088151413,
          0.7796214674617579,
          0.7866217267306197,
          0.7984184599429609,
          0.8047705470572984,
          0.8091781177080632,
          0.8297899922219342,
          0.827326938034742,
          0.835105003889033,
          0.8397718434016075,
          0.8422348975887995,
          0.8434016074669433,
          0.8470313715322789
         ]
        },
        {
         "connectgaps": true,
         "marker": {
          "color": "rgba(0, 255, 0, 0.9)"
         },
         "name": "Testing accuracy gru",
         "type": "scatter",
         "y": [
          0.3617664851784634,
          0.5520266182698125,
          0.6240169388989716,
          0.677858439201452,
          0.7075015124016939,
          0.7014519056261344,
          0.7235329703569268,
          0.7329098608590442,
          0.7568058076225045,
          0.7474289171203872,
          0.7728372655777375,
          0.7673926194797338,
          0.7822141560798548,
          0.7767695099818511,
          0.7728372655777375,
          0.7776769509981851,
          0.7831215970961888,
          0.7807017543859649,
          0.7915910465819722,
          0.7583182093163945
         ]
        },
        {
         "connectgaps": true,
         "marker": {
          "color": "rgba(0, 0, 128, 0.9)"
         },
         "name": "Training accuracy bilstm",
         "type": "scatter",
         "y": [
          0.15011667098781437,
          0.15659839253305677,
          0.2958257713248639,
          0.5035001296344309,
          0.6585429089966295,
          0.7225823178636246,
          0.7586206896551724,
          0.788047705470573,
          0.8137153227897329,
          0.8431423386051335,
          0.8655690951516722,
          0.8796992481203008,
          0.8990147783251231,
          0.9165154264972777,
          0.9261083743842364,
          0.9314233860513352,
          0.9386829141820068,
          0.941923774954628,
          0.9468498833290122,
          0.9534612393051595
         ]
        },
        {
         "connectgaps": true,
         "marker": {
          "color": "rgba(0, 0, 255, 0.9)"
         },
         "name": "Test accuracy bilstm",
         "type": "scatter",
         "y": [
          0.1793708408953418,
          0.22171808832425893,
          0.39473684210526316,
          0.631578947368421,
          0.6833030852994555,
          0.7150635208711433,
          0.7265577737447066,
          0.7568058076225045,
          0.7807017543859649,
          0.7816091954022989,
          0.7722323049001815,
          0.8021778584392014,
          0.8039927404718693,
          0.8157894736842105,
          0.7912885662431942,
          0.808529945553539,
          0.8109497882637628,
          0.8055051421657592,
          0.8055051421657592,
          0.8067150635208712
         ]
        }
       ],
       "layout": {
        "template": {
         "data": {
          "bar": [
           {
            "error_x": {
             "color": "#2a3f5f"
            },
            "error_y": {
             "color": "#2a3f5f"
            },
            "marker": {
             "line": {
              "color": "#E5ECF6",
              "width": 0.5
             },
             "pattern": {
              "fillmode": "overlay",
              "size": 10,
              "solidity": 0.2
             }
            },
            "type": "bar"
           }
          ],
          "barpolar": [
           {
            "marker": {
             "line": {
              "color": "#E5ECF6",
              "width": 0.5
             },
             "pattern": {
              "fillmode": "overlay",
              "size": 10,
              "solidity": 0.2
             }
            },
            "type": "barpolar"
           }
          ],
          "carpet": [
           {
            "aaxis": {
             "endlinecolor": "#2a3f5f",
             "gridcolor": "white",
             "linecolor": "white",
             "minorgridcolor": "white",
             "startlinecolor": "#2a3f5f"
            },
            "baxis": {
             "endlinecolor": "#2a3f5f",
             "gridcolor": "white",
             "linecolor": "white",
             "minorgridcolor": "white",
             "startlinecolor": "#2a3f5f"
            },
            "type": "carpet"
           }
          ],
          "choropleth": [
           {
            "colorbar": {
             "outlinewidth": 0,
             "ticks": ""
            },
            "type": "choropleth"
           }
          ],
          "contour": [
           {
            "colorbar": {
             "outlinewidth": 0,
             "ticks": ""
            },
            "colorscale": [
             [
              0,
              "#0d0887"
             ],
             [
              0.1111111111111111,
              "#46039f"
             ],
             [
              0.2222222222222222,
              "#7201a8"
             ],
             [
              0.3333333333333333,
              "#9c179e"
             ],
             [
              0.4444444444444444,
              "#bd3786"
             ],
             [
              0.5555555555555556,
              "#d8576b"
             ],
             [
              0.6666666666666666,
              "#ed7953"
             ],
             [
              0.7777777777777778,
              "#fb9f3a"
             ],
             [
              0.8888888888888888,
              "#fdca26"
             ],
             [
              1,
              "#f0f921"
             ]
            ],
            "type": "contour"
           }
          ],
          "contourcarpet": [
           {
            "colorbar": {
             "outlinewidth": 0,
             "ticks": ""
            },
            "type": "contourcarpet"
           }
          ],
          "heatmap": [
           {
            "colorbar": {
             "outlinewidth": 0,
             "ticks": ""
            },
            "colorscale": [
             [
              0,
              "#0d0887"
             ],
             [
              0.1111111111111111,
              "#46039f"
             ],
             [
              0.2222222222222222,
              "#7201a8"
             ],
             [
              0.3333333333333333,
              "#9c179e"
             ],
             [
              0.4444444444444444,
              "#bd3786"
             ],
             [
              0.5555555555555556,
              "#d8576b"
             ],
             [
              0.6666666666666666,
              "#ed7953"
             ],
             [
              0.7777777777777778,
              "#fb9f3a"
             ],
             [
              0.8888888888888888,
              "#fdca26"
             ],
             [
              1,
              "#f0f921"
             ]
            ],
            "type": "heatmap"
           }
          ],
          "heatmapgl": [
           {
            "colorbar": {
             "outlinewidth": 0,
             "ticks": ""
            },
            "colorscale": [
             [
              0,
              "#0d0887"
             ],
             [
              0.1111111111111111,
              "#46039f"
             ],
             [
              0.2222222222222222,
              "#7201a8"
             ],
             [
              0.3333333333333333,
              "#9c179e"
             ],
             [
              0.4444444444444444,
              "#bd3786"
             ],
             [
              0.5555555555555556,
              "#d8576b"
             ],
             [
              0.6666666666666666,
              "#ed7953"
             ],
             [
              0.7777777777777778,
              "#fb9f3a"
             ],
             [
              0.8888888888888888,
              "#fdca26"
             ],
             [
              1,
              "#f0f921"
             ]
            ],
            "type": "heatmapgl"
           }
          ],
          "histogram": [
           {
            "marker": {
             "pattern": {
              "fillmode": "overlay",
              "size": 10,
              "solidity": 0.2
             }
            },
            "type": "histogram"
           }
          ],
          "histogram2d": [
           {
            "colorbar": {
             "outlinewidth": 0,
             "ticks": ""
            },
            "colorscale": [
             [
              0,
              "#0d0887"
             ],
             [
              0.1111111111111111,
              "#46039f"
             ],
             [
              0.2222222222222222,
              "#7201a8"
             ],
             [
              0.3333333333333333,
              "#9c179e"
             ],
             [
              0.4444444444444444,
              "#bd3786"
             ],
             [
              0.5555555555555556,
              "#d8576b"
             ],
             [
              0.6666666666666666,
              "#ed7953"
             ],
             [
              0.7777777777777778,
              "#fb9f3a"
             ],
             [
              0.8888888888888888,
              "#fdca26"
             ],
             [
              1,
              "#f0f921"
             ]
            ],
            "type": "histogram2d"
           }
          ],
          "histogram2dcontour": [
           {
            "colorbar": {
             "outlinewidth": 0,
             "ticks": ""
            },
            "colorscale": [
             [
              0,
              "#0d0887"
             ],
             [
              0.1111111111111111,
              "#46039f"
             ],
             [
              0.2222222222222222,
              "#7201a8"
             ],
             [
              0.3333333333333333,
              "#9c179e"
             ],
             [
              0.4444444444444444,
              "#bd3786"
             ],
             [
              0.5555555555555556,
              "#d8576b"
             ],
             [
              0.6666666666666666,
              "#ed7953"
             ],
             [
              0.7777777777777778,
              "#fb9f3a"
             ],
             [
              0.8888888888888888,
              "#fdca26"
             ],
             [
              1,
              "#f0f921"
             ]
            ],
            "type": "histogram2dcontour"
           }
          ],
          "mesh3d": [
           {
            "colorbar": {
             "outlinewidth": 0,
             "ticks": ""
            },
            "type": "mesh3d"
           }
          ],
          "parcoords": [
           {
            "line": {
             "colorbar": {
              "outlinewidth": 0,
              "ticks": ""
             }
            },
            "type": "parcoords"
           }
          ],
          "pie": [
           {
            "automargin": true,
            "type": "pie"
           }
          ],
          "scatter": [
           {
            "marker": {
             "colorbar": {
              "outlinewidth": 0,
              "ticks": ""
             }
            },
            "type": "scatter"
           }
          ],
          "scatter3d": [
           {
            "line": {
             "colorbar": {
              "outlinewidth": 0,
              "ticks": ""
             }
            },
            "marker": {
             "colorbar": {
              "outlinewidth": 0,
              "ticks": ""
             }
            },
            "type": "scatter3d"
           }
          ],
          "scattercarpet": [
           {
            "marker": {
             "colorbar": {
              "outlinewidth": 0,
              "ticks": ""
             }
            },
            "type": "scattercarpet"
           }
          ],
          "scattergeo": [
           {
            "marker": {
             "colorbar": {
              "outlinewidth": 0,
              "ticks": ""
             }
            },
            "type": "scattergeo"
           }
          ],
          "scattergl": [
           {
            "marker": {
             "colorbar": {
              "outlinewidth": 0,
              "ticks": ""
             }
            },
            "type": "scattergl"
           }
          ],
          "scattermapbox": [
           {
            "marker": {
             "colorbar": {
              "outlinewidth": 0,
              "ticks": ""
             }
            },
            "type": "scattermapbox"
           }
          ],
          "scatterpolar": [
           {
            "marker": {
             "colorbar": {
              "outlinewidth": 0,
              "ticks": ""
             }
            },
            "type": "scatterpolar"
           }
          ],
          "scatterpolargl": [
           {
            "marker": {
             "colorbar": {
              "outlinewidth": 0,
              "ticks": ""
             }
            },
            "type": "scatterpolargl"
           }
          ],
          "scatterternary": [
           {
            "marker": {
             "colorbar": {
              "outlinewidth": 0,
              "ticks": ""
             }
            },
            "type": "scatterternary"
           }
          ],
          "surface": [
           {
            "colorbar": {
             "outlinewidth": 0,
             "ticks": ""
            },
            "colorscale": [
             [
              0,
              "#0d0887"
             ],
             [
              0.1111111111111111,
              "#46039f"
             ],
             [
              0.2222222222222222,
              "#7201a8"
             ],
             [
              0.3333333333333333,
              "#9c179e"
             ],
             [
              0.4444444444444444,
              "#bd3786"
             ],
             [
              0.5555555555555556,
              "#d8576b"
             ],
             [
              0.6666666666666666,
              "#ed7953"
             ],
             [
              0.7777777777777778,
              "#fb9f3a"
             ],
             [
              0.8888888888888888,
              "#fdca26"
             ],
             [
              1,
              "#f0f921"
             ]
            ],
            "type": "surface"
           }
          ],
          "table": [
           {
            "cells": {
             "fill": {
              "color": "#EBF0F8"
             },
             "line": {
              "color": "white"
             }
            },
            "header": {
             "fill": {
              "color": "#C8D4E3"
             },
             "line": {
              "color": "white"
             }
            },
            "type": "table"
           }
          ]
         },
         "layout": {
          "annotationdefaults": {
           "arrowcolor": "#2a3f5f",
           "arrowhead": 0,
           "arrowwidth": 1
          },
          "autotypenumbers": "strict",
          "coloraxis": {
           "colorbar": {
            "outlinewidth": 0,
            "ticks": ""
           }
          },
          "colorscale": {
           "diverging": [
            [
             0,
             "#8e0152"
            ],
            [
             0.1,
             "#c51b7d"
            ],
            [
             0.2,
             "#de77ae"
            ],
            [
             0.3,
             "#f1b6da"
            ],
            [
             0.4,
             "#fde0ef"
            ],
            [
             0.5,
             "#f7f7f7"
            ],
            [
             0.6,
             "#e6f5d0"
            ],
            [
             0.7,
             "#b8e186"
            ],
            [
             0.8,
             "#7fbc41"
            ],
            [
             0.9,
             "#4d9221"
            ],
            [
             1,
             "#276419"
            ]
           ],
           "sequential": [
            [
             0,
             "#0d0887"
            ],
            [
             0.1111111111111111,
             "#46039f"
            ],
            [
             0.2222222222222222,
             "#7201a8"
            ],
            [
             0.3333333333333333,
             "#9c179e"
            ],
            [
             0.4444444444444444,
             "#bd3786"
            ],
            [
             0.5555555555555556,
             "#d8576b"
            ],
            [
             0.6666666666666666,
             "#ed7953"
            ],
            [
             0.7777777777777778,
             "#fb9f3a"
            ],
            [
             0.8888888888888888,
             "#fdca26"
            ],
            [
             1,
             "#f0f921"
            ]
           ],
           "sequentialminus": [
            [
             0,
             "#0d0887"
            ],
            [
             0.1111111111111111,
             "#46039f"
            ],
            [
             0.2222222222222222,
             "#7201a8"
            ],
            [
             0.3333333333333333,
             "#9c179e"
            ],
            [
             0.4444444444444444,
             "#bd3786"
            ],
            [
             0.5555555555555556,
             "#d8576b"
            ],
            [
             0.6666666666666666,
             "#ed7953"
            ],
            [
             0.7777777777777778,
             "#fb9f3a"
            ],
            [
             0.8888888888888888,
             "#fdca26"
            ],
            [
             1,
             "#f0f921"
            ]
           ]
          },
          "colorway": [
           "#636efa",
           "#EF553B",
           "#00cc96",
           "#ab63fa",
           "#FFA15A",
           "#19d3f3",
           "#FF6692",
           "#B6E880",
           "#FF97FF",
           "#FECB52"
          ],
          "font": {
           "color": "#2a3f5f"
          },
          "geo": {
           "bgcolor": "white",
           "lakecolor": "white",
           "landcolor": "#E5ECF6",
           "showlakes": true,
           "showland": true,
           "subunitcolor": "white"
          },
          "hoverlabel": {
           "align": "left"
          },
          "hovermode": "closest",
          "mapbox": {
           "style": "light"
          },
          "paper_bgcolor": "white",
          "plot_bgcolor": "#E5ECF6",
          "polar": {
           "angularaxis": {
            "gridcolor": "white",
            "linecolor": "white",
            "ticks": ""
           },
           "bgcolor": "#E5ECF6",
           "radialaxis": {
            "gridcolor": "white",
            "linecolor": "white",
            "ticks": ""
           }
          },
          "scene": {
           "xaxis": {
            "backgroundcolor": "#E5ECF6",
            "gridcolor": "white",
            "gridwidth": 2,
            "linecolor": "white",
            "showbackground": true,
            "ticks": "",
            "zerolinecolor": "white"
           },
           "yaxis": {
            "backgroundcolor": "#E5ECF6",
            "gridcolor": "white",
            "gridwidth": 2,
            "linecolor": "white",
            "showbackground": true,
            "ticks": "",
            "zerolinecolor": "white"
           },
           "zaxis": {
            "backgroundcolor": "#E5ECF6",
            "gridcolor": "white",
            "gridwidth": 2,
            "linecolor": "white",
            "showbackground": true,
            "ticks": "",
            "zerolinecolor": "white"
           }
          },
          "shapedefaults": {
           "line": {
            "color": "#2a3f5f"
           }
          },
          "ternary": {
           "aaxis": {
            "gridcolor": "white",
            "linecolor": "white",
            "ticks": ""
           },
           "baxis": {
            "gridcolor": "white",
            "linecolor": "white",
            "ticks": ""
           },
           "bgcolor": "#E5ECF6",
           "caxis": {
            "gridcolor": "white",
            "linecolor": "white",
            "ticks": ""
           }
          },
          "title": {
           "x": 0.05
          },
          "xaxis": {
           "automargin": true,
           "gridcolor": "white",
           "linecolor": "white",
           "ticks": "",
           "title": {
            "standoff": 15
           },
           "zerolinecolor": "white",
           "zerolinewidth": 2
          },
          "yaxis": {
           "automargin": true,
           "gridcolor": "white",
           "linecolor": "white",
           "ticks": "",
           "title": {
            "standoff": 15
           },
           "zerolinecolor": "white",
           "zerolinewidth": 2
          }
         }
        }
       }
      }
     },
     "metadata": {},
     "output_type": "display_data"
    },
    {
     "data": {
      "application/vnd.plotly.v1+json": {
       "config": {
        "plotlyServerURL": "https://plot.ly"
       },
       "data": [
        {
         "connectgaps": true,
         "marker": {
          "color": "rgba(128, 0, 0, 0.9)"
         },
         "name": "Training Loss lstm",
         "type": "scatter",
         "y": [
          0.034079162775311166,
          0.032712576084567194,
          0.03267246260678858,
          0.03243865780117044,
          0.03240022489002773,
          0.029980893607333685,
          0.0267692628165184,
          0.024384981437084247,
          0.021930029741803508,
          0.019983062363672293,
          0.017239730724992918,
          0.014736752687632991,
          0.013891401468146672,
          0.01296908199779413,
          0.012588465128007997,
          0.011894470166211181,
          0.011434589649555687,
          0.011038070649395404,
          0.01058467541016505,
          0.010249395260530833
         ]
        },
        {
         "connectgaps": true,
         "marker": {
          "color": "rgba(255, 0, 0, 0.9)"
         },
         "name": "Testing Loss lstm",
         "type": "scatter",
         "y": [
          0.03475298195698733,
          0.03236046327076316,
          0.0326228265825792,
          0.03219214476604427,
          0.03248200258628859,
          0.027410790369284205,
          0.025781110460947155,
          0.022876764670762596,
          0.02115488331821278,
          0.019448273050662466,
          0.017072129181061668,
          0.014577893789291958,
          0.014139748740145746,
          0.0136753271879821,
          0.013706455673150273,
          0.012817795208671637,
          0.013486318864915418,
          0.01346710864713678,
          0.013183159283793341,
          0.013752860365873816
         ]
        },
        {
         "connectgaps": true,
         "marker": {
          "color": "rgba(0, 128, 0, 0.9)"
         },
         "name": "Training Loss gru",
         "type": "scatter",
         "y": [
          0.03346436781558095,
          0.02469852037432282,
          0.018779635533694317,
          0.014667016806335439,
          0.01326124872244452,
          0.011819318878602759,
          0.010821666138713645,
          0.010534471182680466,
          0.009772775562647667,
          0.009430606429708268,
          0.008939299817200165,
          0.008838924551071173,
          0.008732050270569435,
          0.007873343240792892,
          0.007603089341428735,
          0.007443786313604454,
          0.007281033387168612,
          0.0071202574898666295,
          0.007012028036200115,
          0.0067818346779840825
         ]
        },
        {
         "connectgaps": true,
         "marker": {
          "color": "rgba(0, 255, 0, 0.9)"
         },
         "name": "Testing Loss gru",
         "type": "scatter",
         "y": [
          0.028223931753339728,
          0.020707394055575944,
          0.016168103956195418,
          0.01351010215260805,
          0.012465856449889257,
          0.012756991685248114,
          0.012198997131862644,
          0.012332342017985118,
          0.010800415928723743,
          0.011251676707943766,
          0.010369509110880505,
          0.010286644046456557,
          0.010265004606461136,
          0.010136389852198899,
          0.010626271568775105,
          0.010355354174118009,
          0.01027722807397702,
          0.010206120248283363,
          0.009869310116937358,
          0.012375663571374934
         ]
        },
        {
         "connectgaps": true,
         "marker": {
          "color": "rgba(0, 0, 128, 0.9)"
         },
         "name": "Training Loss bilstm",
         "type": "scatter",
         "y": [
          0.03356402486539548,
          0.03236506494920675,
          0.028253316353849096,
          0.021311712768802935,
          0.014890254629471156,
          0.012156258796220743,
          0.010416888104283751,
          0.00918527498806515,
          0.008146436217595698,
          0.0071325658383280125,
          0.006176676360432939,
          0.005447107058507167,
          0.004640312700155453,
          0.003970654750081532,
          0.0035468223267786604,
          0.003284435166769326,
          0.002984023736758432,
          0.0027153611539082884,
          0.002507894849282754,
          0.002212519666387914
         ]
        },
        {
         "connectgaps": true,
         "marker": {
          "color": "rgba(0, 0, 255, 0.9)"
         },
         "name": "Testing Loss bilstm",
         "type": "scatter",
         "y": [
          0.032409961520724055,
          0.03194044167102645,
          0.024455179320056728,
          0.01676143713958034,
          0.013594828631686068,
          0.012382868765270212,
          0.011654117220705088,
          0.010615714515248934,
          0.009980546895367265,
          0.0096335090219037,
          0.010532843066222798,
          0.009205847264746969,
          0.009718162801479543,
          0.009442132360847578,
          0.010732470507535202,
          0.010285556772599843,
          0.010792487883977384,
          0.010572733240534765,
          0.010907081646125829,
          0.011178770953702306
         ]
        }
       ],
       "layout": {
        "template": {
         "data": {
          "bar": [
           {
            "error_x": {
             "color": "#2a3f5f"
            },
            "error_y": {
             "color": "#2a3f5f"
            },
            "marker": {
             "line": {
              "color": "#E5ECF6",
              "width": 0.5
             },
             "pattern": {
              "fillmode": "overlay",
              "size": 10,
              "solidity": 0.2
             }
            },
            "type": "bar"
           }
          ],
          "barpolar": [
           {
            "marker": {
             "line": {
              "color": "#E5ECF6",
              "width": 0.5
             },
             "pattern": {
              "fillmode": "overlay",
              "size": 10,
              "solidity": 0.2
             }
            },
            "type": "barpolar"
           }
          ],
          "carpet": [
           {
            "aaxis": {
             "endlinecolor": "#2a3f5f",
             "gridcolor": "white",
             "linecolor": "white",
             "minorgridcolor": "white",
             "startlinecolor": "#2a3f5f"
            },
            "baxis": {
             "endlinecolor": "#2a3f5f",
             "gridcolor": "white",
             "linecolor": "white",
             "minorgridcolor": "white",
             "startlinecolor": "#2a3f5f"
            },
            "type": "carpet"
           }
          ],
          "choropleth": [
           {
            "colorbar": {
             "outlinewidth": 0,
             "ticks": ""
            },
            "type": "choropleth"
           }
          ],
          "contour": [
           {
            "colorbar": {
             "outlinewidth": 0,
             "ticks": ""
            },
            "colorscale": [
             [
              0,
              "#0d0887"
             ],
             [
              0.1111111111111111,
              "#46039f"
             ],
             [
              0.2222222222222222,
              "#7201a8"
             ],
             [
              0.3333333333333333,
              "#9c179e"
             ],
             [
              0.4444444444444444,
              "#bd3786"
             ],
             [
              0.5555555555555556,
              "#d8576b"
             ],
             [
              0.6666666666666666,
              "#ed7953"
             ],
             [
              0.7777777777777778,
              "#fb9f3a"
             ],
             [
              0.8888888888888888,
              "#fdca26"
             ],
             [
              1,
              "#f0f921"
             ]
            ],
            "type": "contour"
           }
          ],
          "contourcarpet": [
           {
            "colorbar": {
             "outlinewidth": 0,
             "ticks": ""
            },
            "type": "contourcarpet"
           }
          ],
          "heatmap": [
           {
            "colorbar": {
             "outlinewidth": 0,
             "ticks": ""
            },
            "colorscale": [
             [
              0,
              "#0d0887"
             ],
             [
              0.1111111111111111,
              "#46039f"
             ],
             [
              0.2222222222222222,
              "#7201a8"
             ],
             [
              0.3333333333333333,
              "#9c179e"
             ],
             [
              0.4444444444444444,
              "#bd3786"
             ],
             [
              0.5555555555555556,
              "#d8576b"
             ],
             [
              0.6666666666666666,
              "#ed7953"
             ],
             [
              0.7777777777777778,
              "#fb9f3a"
             ],
             [
              0.8888888888888888,
              "#fdca26"
             ],
             [
              1,
              "#f0f921"
             ]
            ],
            "type": "heatmap"
           }
          ],
          "heatmapgl": [
           {
            "colorbar": {
             "outlinewidth": 0,
             "ticks": ""
            },
            "colorscale": [
             [
              0,
              "#0d0887"
             ],
             [
              0.1111111111111111,
              "#46039f"
             ],
             [
              0.2222222222222222,
              "#7201a8"
             ],
             [
              0.3333333333333333,
              "#9c179e"
             ],
             [
              0.4444444444444444,
              "#bd3786"
             ],
             [
              0.5555555555555556,
              "#d8576b"
             ],
             [
              0.6666666666666666,
              "#ed7953"
             ],
             [
              0.7777777777777778,
              "#fb9f3a"
             ],
             [
              0.8888888888888888,
              "#fdca26"
             ],
             [
              1,
              "#f0f921"
             ]
            ],
            "type": "heatmapgl"
           }
          ],
          "histogram": [
           {
            "marker": {
             "pattern": {
              "fillmode": "overlay",
              "size": 10,
              "solidity": 0.2
             }
            },
            "type": "histogram"
           }
          ],
          "histogram2d": [
           {
            "colorbar": {
             "outlinewidth": 0,
             "ticks": ""
            },
            "colorscale": [
             [
              0,
              "#0d0887"
             ],
             [
              0.1111111111111111,
              "#46039f"
             ],
             [
              0.2222222222222222,
              "#7201a8"
             ],
             [
              0.3333333333333333,
              "#9c179e"
             ],
             [
              0.4444444444444444,
              "#bd3786"
             ],
             [
              0.5555555555555556,
              "#d8576b"
             ],
             [
              0.6666666666666666,
              "#ed7953"
             ],
             [
              0.7777777777777778,
              "#fb9f3a"
             ],
             [
              0.8888888888888888,
              "#fdca26"
             ],
             [
              1,
              "#f0f921"
             ]
            ],
            "type": "histogram2d"
           }
          ],
          "histogram2dcontour": [
           {
            "colorbar": {
             "outlinewidth": 0,
             "ticks": ""
            },
            "colorscale": [
             [
              0,
              "#0d0887"
             ],
             [
              0.1111111111111111,
              "#46039f"
             ],
             [
              0.2222222222222222,
              "#7201a8"
             ],
             [
              0.3333333333333333,
              "#9c179e"
             ],
             [
              0.4444444444444444,
              "#bd3786"
             ],
             [
              0.5555555555555556,
              "#d8576b"
             ],
             [
              0.6666666666666666,
              "#ed7953"
             ],
             [
              0.7777777777777778,
              "#fb9f3a"
             ],
             [
              0.8888888888888888,
              "#fdca26"
             ],
             [
              1,
              "#f0f921"
             ]
            ],
            "type": "histogram2dcontour"
           }
          ],
          "mesh3d": [
           {
            "colorbar": {
             "outlinewidth": 0,
             "ticks": ""
            },
            "type": "mesh3d"
           }
          ],
          "parcoords": [
           {
            "line": {
             "colorbar": {
              "outlinewidth": 0,
              "ticks": ""
             }
            },
            "type": "parcoords"
           }
          ],
          "pie": [
           {
            "automargin": true,
            "type": "pie"
           }
          ],
          "scatter": [
           {
            "marker": {
             "colorbar": {
              "outlinewidth": 0,
              "ticks": ""
             }
            },
            "type": "scatter"
           }
          ],
          "scatter3d": [
           {
            "line": {
             "colorbar": {
              "outlinewidth": 0,
              "ticks": ""
             }
            },
            "marker": {
             "colorbar": {
              "outlinewidth": 0,
              "ticks": ""
             }
            },
            "type": "scatter3d"
           }
          ],
          "scattercarpet": [
           {
            "marker": {
             "colorbar": {
              "outlinewidth": 0,
              "ticks": ""
             }
            },
            "type": "scattercarpet"
           }
          ],
          "scattergeo": [
           {
            "marker": {
             "colorbar": {
              "outlinewidth": 0,
              "ticks": ""
             }
            },
            "type": "scattergeo"
           }
          ],
          "scattergl": [
           {
            "marker": {
             "colorbar": {
              "outlinewidth": 0,
              "ticks": ""
             }
            },
            "type": "scattergl"
           }
          ],
          "scattermapbox": [
           {
            "marker": {
             "colorbar": {
              "outlinewidth": 0,
              "ticks": ""
             }
            },
            "type": "scattermapbox"
           }
          ],
          "scatterpolar": [
           {
            "marker": {
             "colorbar": {
              "outlinewidth": 0,
              "ticks": ""
             }
            },
            "type": "scatterpolar"
           }
          ],
          "scatterpolargl": [
           {
            "marker": {
             "colorbar": {
              "outlinewidth": 0,
              "ticks": ""
             }
            },
            "type": "scatterpolargl"
           }
          ],
          "scatterternary": [
           {
            "marker": {
             "colorbar": {
              "outlinewidth": 0,
              "ticks": ""
             }
            },
            "type": "scatterternary"
           }
          ],
          "surface": [
           {
            "colorbar": {
             "outlinewidth": 0,
             "ticks": ""
            },
            "colorscale": [
             [
              0,
              "#0d0887"
             ],
             [
              0.1111111111111111,
              "#46039f"
             ],
             [
              0.2222222222222222,
              "#7201a8"
             ],
             [
              0.3333333333333333,
              "#9c179e"
             ],
             [
              0.4444444444444444,
              "#bd3786"
             ],
             [
              0.5555555555555556,
              "#d8576b"
             ],
             [
              0.6666666666666666,
              "#ed7953"
             ],
             [
              0.7777777777777778,
              "#fb9f3a"
             ],
             [
              0.8888888888888888,
              "#fdca26"
             ],
             [
              1,
              "#f0f921"
             ]
            ],
            "type": "surface"
           }
          ],
          "table": [
           {
            "cells": {
             "fill": {
              "color": "#EBF0F8"
             },
             "line": {
              "color": "white"
             }
            },
            "header": {
             "fill": {
              "color": "#C8D4E3"
             },
             "line": {
              "color": "white"
             }
            },
            "type": "table"
           }
          ]
         },
         "layout": {
          "annotationdefaults": {
           "arrowcolor": "#2a3f5f",
           "arrowhead": 0,
           "arrowwidth": 1
          },
          "autotypenumbers": "strict",
          "coloraxis": {
           "colorbar": {
            "outlinewidth": 0,
            "ticks": ""
           }
          },
          "colorscale": {
           "diverging": [
            [
             0,
             "#8e0152"
            ],
            [
             0.1,
             "#c51b7d"
            ],
            [
             0.2,
             "#de77ae"
            ],
            [
             0.3,
             "#f1b6da"
            ],
            [
             0.4,
             "#fde0ef"
            ],
            [
             0.5,
             "#f7f7f7"
            ],
            [
             0.6,
             "#e6f5d0"
            ],
            [
             0.7,
             "#b8e186"
            ],
            [
             0.8,
             "#7fbc41"
            ],
            [
             0.9,
             "#4d9221"
            ],
            [
             1,
             "#276419"
            ]
           ],
           "sequential": [
            [
             0,
             "#0d0887"
            ],
            [
             0.1111111111111111,
             "#46039f"
            ],
            [
             0.2222222222222222,
             "#7201a8"
            ],
            [
             0.3333333333333333,
             "#9c179e"
            ],
            [
             0.4444444444444444,
             "#bd3786"
            ],
            [
             0.5555555555555556,
             "#d8576b"
            ],
            [
             0.6666666666666666,
             "#ed7953"
            ],
            [
             0.7777777777777778,
             "#fb9f3a"
            ],
            [
             0.8888888888888888,
             "#fdca26"
            ],
            [
             1,
             "#f0f921"
            ]
           ],
           "sequentialminus": [
            [
             0,
             "#0d0887"
            ],
            [
             0.1111111111111111,
             "#46039f"
            ],
            [
             0.2222222222222222,
             "#7201a8"
            ],
            [
             0.3333333333333333,
             "#9c179e"
            ],
            [
             0.4444444444444444,
             "#bd3786"
            ],
            [
             0.5555555555555556,
             "#d8576b"
            ],
            [
             0.6666666666666666,
             "#ed7953"
            ],
            [
             0.7777777777777778,
             "#fb9f3a"
            ],
            [
             0.8888888888888888,
             "#fdca26"
            ],
            [
             1,
             "#f0f921"
            ]
           ]
          },
          "colorway": [
           "#636efa",
           "#EF553B",
           "#00cc96",
           "#ab63fa",
           "#FFA15A",
           "#19d3f3",
           "#FF6692",
           "#B6E880",
           "#FF97FF",
           "#FECB52"
          ],
          "font": {
           "color": "#2a3f5f"
          },
          "geo": {
           "bgcolor": "white",
           "lakecolor": "white",
           "landcolor": "#E5ECF6",
           "showlakes": true,
           "showland": true,
           "subunitcolor": "white"
          },
          "hoverlabel": {
           "align": "left"
          },
          "hovermode": "closest",
          "mapbox": {
           "style": "light"
          },
          "paper_bgcolor": "white",
          "plot_bgcolor": "#E5ECF6",
          "polar": {
           "angularaxis": {
            "gridcolor": "white",
            "linecolor": "white",
            "ticks": ""
           },
           "bgcolor": "#E5ECF6",
           "radialaxis": {
            "gridcolor": "white",
            "linecolor": "white",
            "ticks": ""
           }
          },
          "scene": {
           "xaxis": {
            "backgroundcolor": "#E5ECF6",
            "gridcolor": "white",
            "gridwidth": 2,
            "linecolor": "white",
            "showbackground": true,
            "ticks": "",
            "zerolinecolor": "white"
           },
           "yaxis": {
            "backgroundcolor": "#E5ECF6",
            "gridcolor": "white",
            "gridwidth": 2,
            "linecolor": "white",
            "showbackground": true,
            "ticks": "",
            "zerolinecolor": "white"
           },
           "zaxis": {
            "backgroundcolor": "#E5ECF6",
            "gridcolor": "white",
            "gridwidth": 2,
            "linecolor": "white",
            "showbackground": true,
            "ticks": "",
            "zerolinecolor": "white"
           }
          },
          "shapedefaults": {
           "line": {
            "color": "#2a3f5f"
           }
          },
          "ternary": {
           "aaxis": {
            "gridcolor": "white",
            "linecolor": "white",
            "ticks": ""
           },
           "baxis": {
            "gridcolor": "white",
            "linecolor": "white",
            "ticks": ""
           },
           "bgcolor": "#E5ECF6",
           "caxis": {
            "gridcolor": "white",
            "linecolor": "white",
            "ticks": ""
           }
          },
          "title": {
           "x": 0.05
          },
          "xaxis": {
           "automargin": true,
           "gridcolor": "white",
           "linecolor": "white",
           "ticks": "",
           "title": {
            "standoff": 15
           },
           "zerolinecolor": "white",
           "zerolinewidth": 2
          },
          "yaxis": {
           "automargin": true,
           "gridcolor": "white",
           "linecolor": "white",
           "ticks": "",
           "title": {
            "standoff": 15
           },
           "zerolinecolor": "white",
           "zerolinewidth": 2
          }
         }
        }
       }
      }
     },
     "metadata": {},
     "output_type": "display_data"
    },
    {
     "data": {
      "application/vnd.plotly.v1+json": {
       "config": {
        "plotlyServerURL": "https://plot.ly"
       },
       "data": [
        {
         "connectgaps": true,
         "marker": {
          "color": "rgba(128, 0, 0, 0.9)"
         },
         "name": "Training f1score lstm",
         "type": "scatter",
         "y": [
          0.032956453969076836,
          0.03300337510190789,
          0.03402608766803963,
          0.03391773680061555,
          0.035623429564714176,
          0.11620451598992933,
          0.2320624088644796,
          0.28115607241610274,
          0.3421433916661863,
          0.40041395205911096,
          0.4623583624027095,
          0.5186940479009194,
          0.5469883237690291,
          0.5636433916017195,
          0.5775947009775867,
          0.5818293658686821,
          0.6112353691642597,
          0.6230193916841197,
          0.6268937935883697,
          0.6381617577777577
         ]
        },
        {
         "connectgaps": true,
         "marker": {
          "color": "rgba(255, 0, 0, 0.9)"
         },
         "name": "Testing f1score lstm",
         "type": "scatter",
         "y": [
          0.0248476821192053,
          0.026274303730951125,
          0.027182435964453737,
          0.03041805591177225,
          0.026274303730951125,
          0.14832199911077149,
          0.25393195791489737,
          0.27515110265364884,
          0.3372405926980018,
          0.3776384836669836,
          0.41447242579320553,
          0.4854837594109786,
          0.48496084209472956,
          0.5037008363570826,
          0.5032986227251588,
          0.5196850136200546,
          0.5093099305408604,
          0.5078671027170433,
          0.512296228377223,
          0.5182058023013688
         ]
        },
        {
         "connectgaps": true,
         "marker": {
          "color": "rgba(0, 128, 0, 0.9)"
         },
         "name": "Training f1score gru",
         "type": "scatter",
         "y": [
          0.08133171252159806,
          0.29595910484378296,
          0.41614701406587606,
          0.5208693706743649,
          0.5649004323614463,
          0.6081687756776525,
          0.6364633283930476,
          0.6667665857807029,
          0.6762925217003211,
          0.6827998261314309,
          0.7033869134859229,
          0.7067993143951813,
          0.7220571583790321,
          0.7367680276809325,
          0.7330523022666826,
          0.7461198134065543,
          0.7586415059171912,
          0.757324772321081,
          0.7607541424029404,
          0.7600638081012269
         ]
        },
        {
         "connectgaps": true,
         "marker": {
          "color": "rgba(0, 255, 0, 0.9)"
         },
         "name": "Testing f1score gru",
         "type": "scatter",
         "y": [
          0.20920330016592964,
          0.34977897151731774,
          0.4710765808515732,
          0.5344308371579829,
          0.5562379177016615,
          0.5861411734088356,
          0.6034034535172458,
          0.6195554228302892,
          0.6402745508260862,
          0.6125408593995051,
          0.656436448011119,
          0.667673881068054,
          0.6879547757585307,
          0.690780808876846,
          0.6901618398050854,
          0.6771430301780719,
          0.6948128831486381,
          0.6823316496986701,
          0.7004624386371431,
          0.6617334630396314
         ]
        },
        {
         "connectgaps": true,
         "marker": {
          "color": "rgba(0, 0, 128, 0.9)"
         },
         "name": "Training f1score bilstm",
         "type": "scatter",
         "y": [
          0.031618358187567766,
          0.03498657641136685,
          0.1738965373046768,
          0.36267771339575366,
          0.5171177174097854,
          0.5719453209758496,
          0.6313323741880763,
          0.6702398489037785,
          0.7015589439734196,
          0.7392054979797287,
          0.7776222818570057,
          0.7860840785034744,
          0.8136602052326131,
          0.8403417881101389,
          0.8565613065150348,
          0.8584836676213912,
          0.8750632036123718,
          0.86666732061707,
          0.876904992994981,
          0.9000505113962872
         ]
        },
        {
         "connectgaps": true,
         "marker": {
          "color": "rgba(0, 0, 255, 0.9)"
         },
         "name": "Test f1score bilstm",
         "type": "scatter",
         "y": [
          0.03041805591177225,
          0.09580730757278753,
          0.2377467019401684,
          0.44256198935752344,
          0.5054273233897025,
          0.5258446573830341,
          0.5786467673157009,
          0.6050952130799928,
          0.6291478982582426,
          0.6467793177999461,
          0.6539121886545775,
          0.7059140967530213,
          0.6928975371516524,
          0.6935773677237856,
          0.6728881011284833,
          0.7073935683860635,
          0.7052585415305939,
          0.6856627417195924,
          0.717621356569741,
          0.7191765082705729
         ]
        }
       ],
       "layout": {
        "template": {
         "data": {
          "bar": [
           {
            "error_x": {
             "color": "#2a3f5f"
            },
            "error_y": {
             "color": "#2a3f5f"
            },
            "marker": {
             "line": {
              "color": "#E5ECF6",
              "width": 0.5
             },
             "pattern": {
              "fillmode": "overlay",
              "size": 10,
              "solidity": 0.2
             }
            },
            "type": "bar"
           }
          ],
          "barpolar": [
           {
            "marker": {
             "line": {
              "color": "#E5ECF6",
              "width": 0.5
             },
             "pattern": {
              "fillmode": "overlay",
              "size": 10,
              "solidity": 0.2
             }
            },
            "type": "barpolar"
           }
          ],
          "carpet": [
           {
            "aaxis": {
             "endlinecolor": "#2a3f5f",
             "gridcolor": "white",
             "linecolor": "white",
             "minorgridcolor": "white",
             "startlinecolor": "#2a3f5f"
            },
            "baxis": {
             "endlinecolor": "#2a3f5f",
             "gridcolor": "white",
             "linecolor": "white",
             "minorgridcolor": "white",
             "startlinecolor": "#2a3f5f"
            },
            "type": "carpet"
           }
          ],
          "choropleth": [
           {
            "colorbar": {
             "outlinewidth": 0,
             "ticks": ""
            },
            "type": "choropleth"
           }
          ],
          "contour": [
           {
            "colorbar": {
             "outlinewidth": 0,
             "ticks": ""
            },
            "colorscale": [
             [
              0,
              "#0d0887"
             ],
             [
              0.1111111111111111,
              "#46039f"
             ],
             [
              0.2222222222222222,
              "#7201a8"
             ],
             [
              0.3333333333333333,
              "#9c179e"
             ],
             [
              0.4444444444444444,
              "#bd3786"
             ],
             [
              0.5555555555555556,
              "#d8576b"
             ],
             [
              0.6666666666666666,
              "#ed7953"
             ],
             [
              0.7777777777777778,
              "#fb9f3a"
             ],
             [
              0.8888888888888888,
              "#fdca26"
             ],
             [
              1,
              "#f0f921"
             ]
            ],
            "type": "contour"
           }
          ],
          "contourcarpet": [
           {
            "colorbar": {
             "outlinewidth": 0,
             "ticks": ""
            },
            "type": "contourcarpet"
           }
          ],
          "heatmap": [
           {
            "colorbar": {
             "outlinewidth": 0,
             "ticks": ""
            },
            "colorscale": [
             [
              0,
              "#0d0887"
             ],
             [
              0.1111111111111111,
              "#46039f"
             ],
             [
              0.2222222222222222,
              "#7201a8"
             ],
             [
              0.3333333333333333,
              "#9c179e"
             ],
             [
              0.4444444444444444,
              "#bd3786"
             ],
             [
              0.5555555555555556,
              "#d8576b"
             ],
             [
              0.6666666666666666,
              "#ed7953"
             ],
             [
              0.7777777777777778,
              "#fb9f3a"
             ],
             [
              0.8888888888888888,
              "#fdca26"
             ],
             [
              1,
              "#f0f921"
             ]
            ],
            "type": "heatmap"
           }
          ],
          "heatmapgl": [
           {
            "colorbar": {
             "outlinewidth": 0,
             "ticks": ""
            },
            "colorscale": [
             [
              0,
              "#0d0887"
             ],
             [
              0.1111111111111111,
              "#46039f"
             ],
             [
              0.2222222222222222,
              "#7201a8"
             ],
             [
              0.3333333333333333,
              "#9c179e"
             ],
             [
              0.4444444444444444,
              "#bd3786"
             ],
             [
              0.5555555555555556,
              "#d8576b"
             ],
             [
              0.6666666666666666,
              "#ed7953"
             ],
             [
              0.7777777777777778,
              "#fb9f3a"
             ],
             [
              0.8888888888888888,
              "#fdca26"
             ],
             [
              1,
              "#f0f921"
             ]
            ],
            "type": "heatmapgl"
           }
          ],
          "histogram": [
           {
            "marker": {
             "pattern": {
              "fillmode": "overlay",
              "size": 10,
              "solidity": 0.2
             }
            },
            "type": "histogram"
           }
          ],
          "histogram2d": [
           {
            "colorbar": {
             "outlinewidth": 0,
             "ticks": ""
            },
            "colorscale": [
             [
              0,
              "#0d0887"
             ],
             [
              0.1111111111111111,
              "#46039f"
             ],
             [
              0.2222222222222222,
              "#7201a8"
             ],
             [
              0.3333333333333333,
              "#9c179e"
             ],
             [
              0.4444444444444444,
              "#bd3786"
             ],
             [
              0.5555555555555556,
              "#d8576b"
             ],
             [
              0.6666666666666666,
              "#ed7953"
             ],
             [
              0.7777777777777778,
              "#fb9f3a"
             ],
             [
              0.8888888888888888,
              "#fdca26"
             ],
             [
              1,
              "#f0f921"
             ]
            ],
            "type": "histogram2d"
           }
          ],
          "histogram2dcontour": [
           {
            "colorbar": {
             "outlinewidth": 0,
             "ticks": ""
            },
            "colorscale": [
             [
              0,
              "#0d0887"
             ],
             [
              0.1111111111111111,
              "#46039f"
             ],
             [
              0.2222222222222222,
              "#7201a8"
             ],
             [
              0.3333333333333333,
              "#9c179e"
             ],
             [
              0.4444444444444444,
              "#bd3786"
             ],
             [
              0.5555555555555556,
              "#d8576b"
             ],
             [
              0.6666666666666666,
              "#ed7953"
             ],
             [
              0.7777777777777778,
              "#fb9f3a"
             ],
             [
              0.8888888888888888,
              "#fdca26"
             ],
             [
              1,
              "#f0f921"
             ]
            ],
            "type": "histogram2dcontour"
           }
          ],
          "mesh3d": [
           {
            "colorbar": {
             "outlinewidth": 0,
             "ticks": ""
            },
            "type": "mesh3d"
           }
          ],
          "parcoords": [
           {
            "line": {
             "colorbar": {
              "outlinewidth": 0,
              "ticks": ""
             }
            },
            "type": "parcoords"
           }
          ],
          "pie": [
           {
            "automargin": true,
            "type": "pie"
           }
          ],
          "scatter": [
           {
            "marker": {
             "colorbar": {
              "outlinewidth": 0,
              "ticks": ""
             }
            },
            "type": "scatter"
           }
          ],
          "scatter3d": [
           {
            "line": {
             "colorbar": {
              "outlinewidth": 0,
              "ticks": ""
             }
            },
            "marker": {
             "colorbar": {
              "outlinewidth": 0,
              "ticks": ""
             }
            },
            "type": "scatter3d"
           }
          ],
          "scattercarpet": [
           {
            "marker": {
             "colorbar": {
              "outlinewidth": 0,
              "ticks": ""
             }
            },
            "type": "scattercarpet"
           }
          ],
          "scattergeo": [
           {
            "marker": {
             "colorbar": {
              "outlinewidth": 0,
              "ticks": ""
             }
            },
            "type": "scattergeo"
           }
          ],
          "scattergl": [
           {
            "marker": {
             "colorbar": {
              "outlinewidth": 0,
              "ticks": ""
             }
            },
            "type": "scattergl"
           }
          ],
          "scattermapbox": [
           {
            "marker": {
             "colorbar": {
              "outlinewidth": 0,
              "ticks": ""
             }
            },
            "type": "scattermapbox"
           }
          ],
          "scatterpolar": [
           {
            "marker": {
             "colorbar": {
              "outlinewidth": 0,
              "ticks": ""
             }
            },
            "type": "scatterpolar"
           }
          ],
          "scatterpolargl": [
           {
            "marker": {
             "colorbar": {
              "outlinewidth": 0,
              "ticks": ""
             }
            },
            "type": "scatterpolargl"
           }
          ],
          "scatterternary": [
           {
            "marker": {
             "colorbar": {
              "outlinewidth": 0,
              "ticks": ""
             }
            },
            "type": "scatterternary"
           }
          ],
          "surface": [
           {
            "colorbar": {
             "outlinewidth": 0,
             "ticks": ""
            },
            "colorscale": [
             [
              0,
              "#0d0887"
             ],
             [
              0.1111111111111111,
              "#46039f"
             ],
             [
              0.2222222222222222,
              "#7201a8"
             ],
             [
              0.3333333333333333,
              "#9c179e"
             ],
             [
              0.4444444444444444,
              "#bd3786"
             ],
             [
              0.5555555555555556,
              "#d8576b"
             ],
             [
              0.6666666666666666,
              "#ed7953"
             ],
             [
              0.7777777777777778,
              "#fb9f3a"
             ],
             [
              0.8888888888888888,
              "#fdca26"
             ],
             [
              1,
              "#f0f921"
             ]
            ],
            "type": "surface"
           }
          ],
          "table": [
           {
            "cells": {
             "fill": {
              "color": "#EBF0F8"
             },
             "line": {
              "color": "white"
             }
            },
            "header": {
             "fill": {
              "color": "#C8D4E3"
             },
             "line": {
              "color": "white"
             }
            },
            "type": "table"
           }
          ]
         },
         "layout": {
          "annotationdefaults": {
           "arrowcolor": "#2a3f5f",
           "arrowhead": 0,
           "arrowwidth": 1
          },
          "autotypenumbers": "strict",
          "coloraxis": {
           "colorbar": {
            "outlinewidth": 0,
            "ticks": ""
           }
          },
          "colorscale": {
           "diverging": [
            [
             0,
             "#8e0152"
            ],
            [
             0.1,
             "#c51b7d"
            ],
            [
             0.2,
             "#de77ae"
            ],
            [
             0.3,
             "#f1b6da"
            ],
            [
             0.4,
             "#fde0ef"
            ],
            [
             0.5,
             "#f7f7f7"
            ],
            [
             0.6,
             "#e6f5d0"
            ],
            [
             0.7,
             "#b8e186"
            ],
            [
             0.8,
             "#7fbc41"
            ],
            [
             0.9,
             "#4d9221"
            ],
            [
             1,
             "#276419"
            ]
           ],
           "sequential": [
            [
             0,
             "#0d0887"
            ],
            [
             0.1111111111111111,
             "#46039f"
            ],
            [
             0.2222222222222222,
             "#7201a8"
            ],
            [
             0.3333333333333333,
             "#9c179e"
            ],
            [
             0.4444444444444444,
             "#bd3786"
            ],
            [
             0.5555555555555556,
             "#d8576b"
            ],
            [
             0.6666666666666666,
             "#ed7953"
            ],
            [
             0.7777777777777778,
             "#fb9f3a"
            ],
            [
             0.8888888888888888,
             "#fdca26"
            ],
            [
             1,
             "#f0f921"
            ]
           ],
           "sequentialminus": [
            [
             0,
             "#0d0887"
            ],
            [
             0.1111111111111111,
             "#46039f"
            ],
            [
             0.2222222222222222,
             "#7201a8"
            ],
            [
             0.3333333333333333,
             "#9c179e"
            ],
            [
             0.4444444444444444,
             "#bd3786"
            ],
            [
             0.5555555555555556,
             "#d8576b"
            ],
            [
             0.6666666666666666,
             "#ed7953"
            ],
            [
             0.7777777777777778,
             "#fb9f3a"
            ],
            [
             0.8888888888888888,
             "#fdca26"
            ],
            [
             1,
             "#f0f921"
            ]
           ]
          },
          "colorway": [
           "#636efa",
           "#EF553B",
           "#00cc96",
           "#ab63fa",
           "#FFA15A",
           "#19d3f3",
           "#FF6692",
           "#B6E880",
           "#FF97FF",
           "#FECB52"
          ],
          "font": {
           "color": "#2a3f5f"
          },
          "geo": {
           "bgcolor": "white",
           "lakecolor": "white",
           "landcolor": "#E5ECF6",
           "showlakes": true,
           "showland": true,
           "subunitcolor": "white"
          },
          "hoverlabel": {
           "align": "left"
          },
          "hovermode": "closest",
          "mapbox": {
           "style": "light"
          },
          "paper_bgcolor": "white",
          "plot_bgcolor": "#E5ECF6",
          "polar": {
           "angularaxis": {
            "gridcolor": "white",
            "linecolor": "white",
            "ticks": ""
           },
           "bgcolor": "#E5ECF6",
           "radialaxis": {
            "gridcolor": "white",
            "linecolor": "white",
            "ticks": ""
           }
          },
          "scene": {
           "xaxis": {
            "backgroundcolor": "#E5ECF6",
            "gridcolor": "white",
            "gridwidth": 2,
            "linecolor": "white",
            "showbackground": true,
            "ticks": "",
            "zerolinecolor": "white"
           },
           "yaxis": {
            "backgroundcolor": "#E5ECF6",
            "gridcolor": "white",
            "gridwidth": 2,
            "linecolor": "white",
            "showbackground": true,
            "ticks": "",
            "zerolinecolor": "white"
           },
           "zaxis": {
            "backgroundcolor": "#E5ECF6",
            "gridcolor": "white",
            "gridwidth": 2,
            "linecolor": "white",
            "showbackground": true,
            "ticks": "",
            "zerolinecolor": "white"
           }
          },
          "shapedefaults": {
           "line": {
            "color": "#2a3f5f"
           }
          },
          "ternary": {
           "aaxis": {
            "gridcolor": "white",
            "linecolor": "white",
            "ticks": ""
           },
           "baxis": {
            "gridcolor": "white",
            "linecolor": "white",
            "ticks": ""
           },
           "bgcolor": "#E5ECF6",
           "caxis": {
            "gridcolor": "white",
            "linecolor": "white",
            "ticks": ""
           }
          },
          "title": {
           "x": 0.05
          },
          "xaxis": {
           "automargin": true,
           "gridcolor": "white",
           "linecolor": "white",
           "ticks": "",
           "title": {
            "standoff": 15
           },
           "zerolinecolor": "white",
           "zerolinewidth": 2
          },
          "yaxis": {
           "automargin": true,
           "gridcolor": "white",
           "linecolor": "white",
           "ticks": "",
           "title": {
            "standoff": 15
           },
           "zerolinecolor": "white",
           "zerolinewidth": 2
          }
         }
        }
       }
      }
     },
     "metadata": {},
     "output_type": "display_data"
    }
   ],
   "source": [
    "fig_accuracy = go.Figure()\n",
    "\n",
    "fig_accuracy.add_trace(go.Scatter(\n",
    "    y=final_acc_train_lstm,\n",
    "    connectgaps=True, marker_color='rgba(128, 0, 0, 0.9)', name = 'Training accuracy lstm'))\n",
    "\n",
    "fig_accuracy.add_trace(go.Scatter(\n",
    "    y=final_acc_test_lstm,\n",
    "    connectgaps=True, marker_color='rgba(255, 0, 0, 0.9)', name = 'Testing accuracy lstm'))\n",
    "\n",
    "fig_accuracy.add_trace(go.Scatter(\n",
    "    y=final_acc_train_gru,\n",
    "    connectgaps=True, marker_color='rgba(0, 128, 0, 0.9)', name = 'Training accuracy gru'))\n",
    "fig_accuracy.add_trace(go.Scatter(\n",
    "    y=final_acc_test_gru,\n",
    "    connectgaps=True, marker_color = 'rgba(0, 255, 0, 0.9)', name = 'Testing accuracy gru'))\n",
    "\n",
    "fig_accuracy.add_trace(go.Scatter(\n",
    "    y=final_acc_train_bilstm,\n",
    "    connectgaps=True, marker_color='rgba(0, 0, 128, 0.9)', name = 'Training accuracy bilstm'))\n",
    "fig_accuracy.add_trace(go.Scatter(\n",
    "    y=final_acc_test_bilstm, connectgaps=True, marker_color='rgba(0, 0, 255, 0.9)',\n",
    "    name='Test accuracy bilstm'))\n",
    "\n",
    "fig_accuracy.show()\n",
    "\n",
    "fig_loss = go.Figure()\n",
    "\n",
    "fig_loss.add_trace(go.Scatter(\n",
    "    y=final_loss_train_lstm,\n",
    "    connectgaps=True, marker_color='rgba(128, 0, 0, 0.9)', name = 'Training Loss lstm'))\n",
    "\n",
    "fig_loss.add_trace(go.Scatter(\n",
    "    y=final_loss_test_lstm,\n",
    "    connectgaps=True, marker_color='rgba(255, 0, 0, 0.9)', name = 'Testing Loss lstm'))\n",
    "\n",
    "fig_loss.add_trace(go.Scatter(\n",
    "    y=final_loss_train_gru,\n",
    "    connectgaps=True, marker_color='rgba(0, 128, 0, 0.9)', name = 'Training Loss gru'))\n",
    "\n",
    "fig_loss.add_trace(go.Scatter(\n",
    "    y=final_loss_test_gru,\n",
    "    connectgaps=True, marker_color='rgba(0, 255, 0, 0.9)', name = 'Testing Loss gru'))\n",
    "\n",
    "fig_loss.add_trace(go.Scatter(\n",
    "    y=final_loss_train_bilstm,\n",
    "    connectgaps=True, marker_color='rgba(0, 0, 128, 0.9)', name = 'Training Loss bilstm'))\n",
    "\n",
    "fig_loss.add_trace(go.Scatter(\n",
    "    y=final_loss_test_bilstm,\n",
    "    connectgaps=True, marker_color='rgba(0, 0, 255, 0.9)', name = 'Testing Loss bilstm'))\n",
    "\n",
    "fig_loss.show()\n",
    "\n",
    "fig_f1score = go.Figure()\n",
    "\n",
    "fig_f1score.add_trace(go.Scatter(\n",
    "    y=final_f1score_train_lstm,\n",
    "    connectgaps=True, marker_color='rgba(128, 0, 0, 0.9)', name = 'Training f1score lstm'))\n",
    "\n",
    "fig_f1score.add_trace(go.Scatter(\n",
    "    y=final_f1score_test_lstm,\n",
    "    connectgaps=True, marker_color='rgba(255, 0, 0, 0.9)', name = 'Testing f1score lstm'))\n",
    "\n",
    "fig_f1score.add_trace(go.Scatter(\n",
    "    y=final_f1score_train_gru,\n",
    "    connectgaps=True, marker_color='rgba(0, 128, 0, 0.9)', name = 'Training f1score gru'))\n",
    "fig_f1score.add_trace(go.Scatter(\n",
    "    y=final_f1score_test_gru,\n",
    "    connectgaps=True, marker_color = 'rgba(0, 255, 0, 0.9)', name = 'Testing f1score gru'))\n",
    "\n",
    "fig_f1score.add_trace(go.Scatter(\n",
    "    y=final_f1score_train_bilstm,\n",
    "    connectgaps=True, marker_color='rgba(0, 0, 128, 0.9)', name = 'Training f1score bilstm'))\n",
    "fig_f1score.add_trace(go.Scatter(\n",
    "    y=final_f1score_test_bilstm, connectgaps=True, marker_color='rgba(0, 0, 255, 0.9)',\n",
    "    name='Test f1score bilstm'))\n",
    "\n",
    "fig_f1score.show()"
   ]
  }
 ],
 "metadata": {
  "interpreter": {
   "hash": "2de8be38aa559135547463b25d4fd7c7f41aeed33cd886383b34a6765034961c"
  },
  "kernelspec": {
   "display_name": "Python 3.7.11 64-bit ('cuda-env': conda)",
   "language": "python",
   "name": "python3"
  },
  "language_info": {
   "codemirror_mode": {
    "name": "ipython",
    "version": 3
   },
   "file_extension": ".py",
   "mimetype": "text/x-python",
   "name": "python",
   "nbconvert_exporter": "python",
   "pygments_lexer": "ipython3",
   "version": "3.7.11"
  },
  "orig_nbformat": 4
 },
 "nbformat": 4,
 "nbformat_minor": 2
}
